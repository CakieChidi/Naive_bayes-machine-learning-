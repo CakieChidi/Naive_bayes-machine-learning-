{
 "cells": [
  {
   "cell_type": "code",
   "execution_count": 1,
   "id": "98bf81ff",
   "metadata": {},
   "outputs": [],
   "source": [
    "import pandas as pd \n",
    "\n",
    "neo= \"neo.csv\"\n",
    "\n",
    "neo = pd.read_csv(neo)\n"
   ]
  },
  {
   "cell_type": "code",
   "execution_count": 2,
   "id": "5f2e13d3",
   "metadata": {
    "scrolled": true
   },
   "outputs": [
    {
     "name": "stdout",
     "output_type": "stream",
     "text": [
      "        id                 name  est_diameter_min  est_diameter_max  \\\n",
      "0  2162635  162635 (2000 SS164)          1.198271          2.679415   \n",
      "1  2277475    277475 (2005 WK4)          0.265800          0.594347   \n",
      "2  2512244   512244 (2015 YE18)          0.722030          1.614507   \n",
      "3  3596030          (2012 BV13)          0.096506          0.215794   \n",
      "4  3667127          (2014 GE35)          0.255009          0.570217   \n",
      "\n",
      "   relative_velocity  miss_distance orbiting_body  sentry_object  \\\n",
      "0       13569.249224   5.483974e+07         Earth          False   \n",
      "1       73588.726663   6.143813e+07         Earth          False   \n",
      "2      114258.692129   4.979872e+07         Earth          False   \n",
      "3       24764.303138   2.543497e+07         Earth          False   \n",
      "4       42737.733765   4.627557e+07         Earth          False   \n",
      "\n",
      "   absolute_magnitude  hazardous  \n",
      "0               16.73      False  \n",
      "1               20.00       True  \n",
      "2               17.83      False  \n",
      "3               22.20      False  \n",
      "4               20.09       True  \n"
     ]
    }
   ],
   "source": [
    "print (neo.head())\n"
   ]
  },
  {
   "cell_type": "code",
   "execution_count": 3,
   "id": "26609202",
   "metadata": {},
   "outputs": [
    {
     "data": {
      "text/plain": [
       "RangeIndex(start=0, stop=90836, step=1)"
      ]
     },
     "execution_count": 3,
     "metadata": {},
     "output_type": "execute_result"
    }
   ],
   "source": [
    "neo.index"
   ]
  },
  {
   "cell_type": "code",
   "execution_count": 4,
   "id": "ec02c0a4",
   "metadata": {},
   "outputs": [
    {
     "data": {
      "text/plain": [
       "Index(['id', 'name', 'est_diameter_min', 'est_diameter_max',\n",
       "       'relative_velocity', 'miss_distance', 'orbiting_body', 'sentry_object',\n",
       "       'absolute_magnitude', 'hazardous'],\n",
       "      dtype='object')"
      ]
     },
     "execution_count": 4,
     "metadata": {},
     "output_type": "execute_result"
    }
   ],
   "source": [
    "neo.columns"
   ]
  },
  {
   "cell_type": "code",
   "execution_count": 5,
   "id": "a7af1dc1",
   "metadata": {},
   "outputs": [
    {
     "data": {
      "text/plain": [
       "id                      int64\n",
       "name                   object\n",
       "est_diameter_min      float64\n",
       "est_diameter_max      float64\n",
       "relative_velocity     float64\n",
       "miss_distance         float64\n",
       "orbiting_body          object\n",
       "sentry_object            bool\n",
       "absolute_magnitude    float64\n",
       "hazardous                bool\n",
       "dtype: object"
      ]
     },
     "execution_count": 5,
     "metadata": {},
     "output_type": "execute_result"
    }
   ],
   "source": [
    "neo.dtypes"
   ]
  },
  {
   "cell_type": "code",
   "execution_count": 6,
   "id": "10696d80",
   "metadata": {
    "scrolled": true
   },
   "outputs": [
    {
     "name": "stdout",
     "output_type": "stream",
     "text": [
      "<class 'pandas.core.frame.DataFrame'>\n",
      "RangeIndex: 90836 entries, 0 to 90835\n",
      "Data columns (total 10 columns):\n",
      " #   Column              Non-Null Count  Dtype  \n",
      "---  ------              --------------  -----  \n",
      " 0   id                  90836 non-null  int64  \n",
      " 1   name                90836 non-null  object \n",
      " 2   est_diameter_min    90836 non-null  float64\n",
      " 3   est_diameter_max    90836 non-null  float64\n",
      " 4   relative_velocity   90836 non-null  float64\n",
      " 5   miss_distance       90836 non-null  float64\n",
      " 6   orbiting_body       90836 non-null  object \n",
      " 7   sentry_object       90836 non-null  bool   \n",
      " 8   absolute_magnitude  90836 non-null  float64\n",
      " 9   hazardous           90836 non-null  bool   \n",
      "dtypes: bool(2), float64(5), int64(1), object(2)\n",
      "memory usage: 5.0+ MB\n"
     ]
    }
   ],
   "source": [
    "neo.info()"
   ]
  },
  {
   "cell_type": "markdown",
   "id": "d74eeb12",
   "metadata": {},
   "source": [
    "# Machine Learning \n",
    "\n"
   ]
  },
  {
   "cell_type": "code",
   "execution_count": 7,
   "id": "0a6bc5d6",
   "metadata": {
    "scrolled": true
   },
   "outputs": [],
   "source": [
    "#split into target and features \n",
    "target = neo.hazardous\n",
    "features =neo.drop([\"hazardous\",\"name\",\"orbiting_body\"], axis=1)\n",
    "\n",
    "target = pd.get_dummies(target)"
   ]
  },
  {
   "cell_type": "code",
   "execution_count": 8,
   "id": "b0d2ad0f",
   "metadata": {},
   "outputs": [],
   "source": [
    "from sklearn.model_selection import train_test_split\n",
    "F1,f2,T1,t2 = train_test_split(features,target)\n"
   ]
  },
  {
   "cell_type": "code",
   "execution_count": 9,
   "id": "37cfd96e",
   "metadata": {},
   "outputs": [],
   "source": [
    "#F1,T1 = training set \n",
    "#f2, t2 = test set \n",
    "\n",
    "from sklearn.naive_bayes import GaussianNB \n",
    "model = GaussianNB()\n",
    "predictor = model.fit(F1,T1[True])\n",
    "t_ans= predictor.predict(f2)\n"
   ]
  },
  {
   "cell_type": "code",
   "execution_count": 10,
   "id": "0dba1076",
   "metadata": {
    "scrolled": true
   },
   "outputs": [
    {
     "data": {
      "text/plain": [
       "0.8904399136906073"
      ]
     },
     "execution_count": 10,
     "metadata": {},
     "output_type": "execute_result"
    }
   ],
   "source": [
    "from sklearn.metrics import accuracy_score\n",
    "accuracy_score(t_ans, t2[True])"
   ]
  },
  {
   "cell_type": "code",
   "execution_count": 11,
   "id": "2ec5125c",
   "metadata": {
    "scrolled": false
   },
   "outputs": [
    {
     "data": {
      "text/plain": [
       "Text(83.40000000000006, 0.5, 'true value')"
      ]
     },
     "execution_count": 11,
     "metadata": {},
     "output_type": "execute_result"
    },
    {
     "data": {
      "image/png": "[encoded data removed]",
      "text/plain": [
       "<Figure size 432x288 with 2 Axes>"
      ]
     },
     "metadata": {
      "needs_background": "light"
     },
     "output_type": "display_data"
    }
   ],
   "source": [
    "%matplotlib inline\n",
    "from sklearn.metrics import confusion_matrix\n",
    "import matplotlib.pyplot as plt\n",
    "import seaborn as sns\n",
    "mat = confusion_matrix(t_ans,t2[True])\n",
    "sns.heatmap(mat, square=True, annot=True,cmap=\"viridis\", cbar=True)\n",
    "plt.xlabel('predicted value')\n",
    "plt.ylabel('true value')"
   ]
  },
  {
   "cell_type": "code",
   "execution_count": null,
   "id": "59789738",
   "metadata": {},
   "outputs": [],
   "source": []
  }
 ],
 "metadata": {
  "kernelspec": {
   "display_name": "Python 3 (ipykernel)",
   "language": "python",
   "name": "python3"
  },
  "language_info": {
   "codemirror_mode": {
    "name": "ipython",
    "version": 3
   },
   "file_extension": ".py",
   "mimetype": "text/x-python",
   "name": "python",
   "nbconvert_exporter": "python",
   "pygments_lexer": "ipython3",
   "version": "3.9.7"
  }
 },
 "nbformat": 4,
 "nbformat_minor": 5
}
